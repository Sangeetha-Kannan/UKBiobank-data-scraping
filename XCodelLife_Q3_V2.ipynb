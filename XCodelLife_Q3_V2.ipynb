{
 "cells": [
  {
   "cell_type": "markdown",
   "id": "ff9a90e6",
   "metadata": {},
   "source": [
    "# Question: If you have data from the UK biobank of 10,000 South Asian individuals, how will you go about isolating nutritional phenotype information and performing further analysis?"
   ]
  },
  {
   "cell_type": "markdown",
   "id": "000be7e7",
   "metadata": {},
   "source": [
    "Answer:\n",
    "\n",
    "The broad steps to isolate nutritional phenotype data from UK biobank are as follows:"
   ]
  },
  {
   "cell_type": "markdown",
   "id": "38f2a67d",
   "metadata": {},
   "source": [
    "1.Identify the variables in the UK Biobank dataset that relate to nutrition, such as dietary intake, nutrient levels, or anthropometric measures related to nutrition \n",
    "\n",
    "2. Filter the dataset to only include data for South Asian individuals\n",
    "\n",
    "3. Explore the dataset to understand the distribution of variables and check for missing values\n",
    "\n",
    "4.  Perform statistical analyses to investigate relationships between the nutritional variables and other variables of interest, such as demographic information, health outcomes, or genetic variants\n",
    "\n",
    "5. Use data visualization tools to communicate findings and insights from the analysis"
   ]
  },
  {
   "cell_type": "markdown",
   "id": "ffdd29d1",
   "metadata": {},
   "source": [
    "To filter the dataset in the UK Biobank to only include data for South Asian individuals, you can use either self-reported ethnicity or genetic ancestry data. "
   ]
  },
  {
   "cell_type": "markdown",
   "id": "0a876dd3",
   "metadata": {},
   "source": [
    "# First Method: Self-reported ethnicity"
   ]
  },
  {
   "cell_type": "markdown",
   "id": "c97c50a3",
   "metadata": {},
   "source": [
    "First, Let create a simulated dataset "
   ]
  },
  {
   "cell_type": "code",
   "execution_count": 38,
   "id": "25c51739",
   "metadata": {},
   "outputs": [],
   "source": [
    "#import libraries\n",
    "import numpy as np\n",
    "import pandas as pd"
   ]
  },
  {
   "cell_type": "code",
   "execution_count": 39,
   "id": "f4e5da73",
   "metadata": {},
   "outputs": [],
   "source": [
    "# Set the number of individuals in the dataset\n",
    "num_individuals = 10800"
   ]
  },
  {
   "cell_type": "code",
   "execution_count": 40,
   "id": "14fa09bb",
   "metadata": {},
   "outputs": [],
   "source": [
    "# Generate the ID variable\n",
    "ids = np.arange(1, num_individuals+1)\n",
    "\n",
    "# Generate the Age variable (mean=50, std=10)\n",
    "ages = np.random.normal(loc=50, scale=10, size=num_individuals).astype(int)\n",
    "\n",
    "# Generate the Sex variable (M or F)\n",
    "sexes = np.random.choice(['M', 'F'], size=num_individuals)\n",
    "\n",
    "# Generate the Height variable (mean=170, std=10)\n",
    "heights = np.random.normal(loc=170, scale=10, size=num_individuals).round(1)\n",
    "\n",
    "# Generate the Weight variable (mean=70, std=10)\n",
    "weights = np.random.normal(loc=70, scale=10, size=num_individuals).round(1)\n",
    "\n",
    "#Generate the ethnicity variable\n",
    "ethnicity = np.random.choice([\"Indian\", \"Pakistani\", \"Bangladeshi\", \"Asian\", \"Chinese\", \"white_british\", \"white_irish\"], size=num_individuals)\n",
    "\n",
    "# Generate the Systolic Blood Pressure variable (mean=120, std=10)\n",
    "sbp = np.random.normal(loc=120, scale=10, size=num_individuals).astype(int)\n",
    "\n",
    "# Generate the Diastolic Blood Pressure variable (mean=80, std=10)\n",
    "dbp = np.random.normal(loc=80, scale=10, size=num_individuals).astype(int)\n",
    "\n",
    "#Generate calorie_intake variable (mean =1000, std = 500)\n",
    "calorie = np.random.normal(loc=1000, scale=500,size=num_individuals).astype(int)\n",
    "\n",
    "#Generate protein_intake variable (mean =60, std = 20)\n",
    "protein = np.random.normal(loc=60, scale=20,size=num_individuals).astype(int)\n",
    "\n",
    "#Generate carb_intake variable (mean =200, std = 70)\n",
    "carb = np.random.normal(loc=200, scale=70,size=num_individuals).astype(int)\n",
    "\n",
    "#Generate fat_intake variable (mean =80, std = 25)\n",
    "fat = np.random.normal(loc=80, scale=25,size=num_individuals).astype(int)\n",
    "\n",
    "# Generate the Smoking Status variable (Current Smoker, Former Smoker, or Non-Smoker)\n",
    "smoking_status = np.random.choice(['Current Smoker', 'Former Smoker', 'Non-Smoker'], size=num_individuals)\n",
    "\n",
    "# Generate the Alcohol Intake variable (mean=20, std=10)\n",
    "alcohol_intake = np.random.normal(loc=20, scale=10, size=num_individuals).astype(int)\n",
    "\n",
    "# Generate the Physical Activity variable (mean=3, std=2)\n",
    "physical_activity = np.random.normal(loc=3, scale=2, size=num_individuals).round(1)\n",
    "\n",
    "# Generate the Diabetes Status variable (Yes or No)\n",
    "diabetes_status = np.random.choice(['Yes', 'No'], size=num_individuals)\n",
    "\n",
    "# Generate the Cancer Status variable (Yes or No)\n",
    "cancer_status = np.random.choice(['Yes', 'No'], size=num_individuals)\n"
   ]
  },
  {
   "cell_type": "code",
   "execution_count": 41,
   "id": "362ba344",
   "metadata": {},
   "outputs": [],
   "source": [
    "# Create a dictionary with the variables\n",
    "data_dict = {'ID': ids,\n",
    "             'Age': ages,\n",
    "             'Sex': sexes,\n",
    "             'Height_cm': heights,\n",
    "             'Weight_kg': weights,\n",
    "             'Ethnicity': ethnicity,\n",
    "             'Systolic_BP_mmHg': sbp,\n",
    "             'Diastolic_BP_mmHg': dbp,\n",
    "             'Calorie_intake': calorie,\n",
    "             'Protein_intake': protein,\n",
    "             'Carb_intake': carb,\n",
    "             'Fat_intake': fat,\n",
    "             'Smoking_Status': smoking_status,\n",
    "             'Alcohol_Intake_g/day': alcohol_intake,\n",
    "             'Physical_Activity_hours/week': physical_activity,\n",
    "             'Diabetes_Status': diabetes_status,\n",
    "             'Cancer_Status': cancer_status}"
   ]
  },
  {
   "cell_type": "code",
   "execution_count": 42,
   "id": "06d09494",
   "metadata": {},
   "outputs": [],
   "source": [
    "# Convert the dictionary to a Pandas DataFrame\n",
    "df = pd.DataFrame(data_dict)"
   ]
  },
  {
   "cell_type": "code",
   "execution_count": 43,
   "id": "02554951",
   "metadata": {},
   "outputs": [],
   "source": [
    "# Save the DataFrame to a tab-delimited text file\n",
    "df.to_csv('simulated_uk_biobank_dataset.txt', sep='\\t', index=False)"
   ]
  },
  {
   "cell_type": "code",
   "execution_count": 44,
   "id": "32137c4f",
   "metadata": {},
   "outputs": [
    {
     "name": "stdout",
     "output_type": "stream",
     "text": [
      "<class 'pandas.core.frame.DataFrame'>\n",
      "RangeIndex: 10800 entries, 0 to 10799\n",
      "Data columns (total 17 columns):\n",
      " #   Column                        Non-Null Count  Dtype  \n",
      "---  ------                        --------------  -----  \n",
      " 0   ID                            10800 non-null  int32  \n",
      " 1   Age                           10800 non-null  int32  \n",
      " 2   Sex                           10800 non-null  object \n",
      " 3   Height_cm                     10800 non-null  float64\n",
      " 4   Weight_kg                     10800 non-null  float64\n",
      " 5   Ethnicity                     10800 non-null  object \n",
      " 6   Systolic_BP_mmHg              10800 non-null  int32  \n",
      " 7   Diastolic_BP_mmHg             10800 non-null  int32  \n",
      " 8   Calorie_intake                10800 non-null  int32  \n",
      " 9   Protein_intake                10800 non-null  int32  \n",
      " 10  Carb_intake                   10800 non-null  int32  \n",
      " 11  Fat_intake                    10800 non-null  int32  \n",
      " 12  Smoking_Status                10800 non-null  object \n",
      " 13  Alcohol_Intake_g/day          10800 non-null  int32  \n",
      " 14  Physical_Activity_hours/week  10800 non-null  float64\n",
      " 15  Diabetes_Status               10800 non-null  object \n",
      " 16  Cancer_Status                 10800 non-null  object \n",
      "dtypes: float64(3), int32(9), object(5)\n",
      "memory usage: 1.0+ MB\n"
     ]
    }
   ],
   "source": [
    "df.info()"
   ]
  },
  {
   "cell_type": "markdown",
   "id": "26b1c50e",
   "metadata": {},
   "source": [
    "Identify the variable in the UK Biobank dataset that contains information on self-reported ethnicity. \n",
    "\n",
    "This variable may be labeled \"ethnicity,\" \"ethnic group,\" or similar.\n",
    "\n",
    "Filter the dataset to only include individuals who self-reported as South Asian in this variable. The exact category labels may vary depending on the UK Biobank dataset, but could include \"Indian,\" \"Pakistani,\" \"Bangladeshi,\" or similar."
   ]
  },
  {
   "cell_type": "code",
   "execution_count": 48,
   "id": "d64f6916",
   "metadata": {},
   "outputs": [],
   "source": [
    "asian_df = df.loc[(df[\"Ethnicity\"] == \"Indian\")|(df[\"Ethnicity\"]==\"Pakistani\")|(df[\"Ethnicity\"]==\"Bangladeshi\")| (df[\"Ethnicity\"]==\"Asian\")]"
   ]
  },
  {
   "cell_type": "code",
   "execution_count": 46,
   "id": "225888cd",
   "metadata": {},
   "outputs": [
    {
     "data": {
      "text/plain": [
       "Bangladeshi    1612\n",
       "Indian         1532\n",
       "Asian          1507\n",
       "Pakistani      1498\n",
       "Name: Ethnicity, dtype: int64"
      ]
     },
     "execution_count": 46,
     "metadata": {},
     "output_type": "execute_result"
    }
   ],
   "source": [
    "asian_df['Ethnicity'].value_counts()"
   ]
  },
  {
   "cell_type": "markdown",
   "id": "939097f2",
   "metadata": {},
   "source": [
    "Further can check for distribution, outliers and missing values in the data"
   ]
  },
  {
   "cell_type": "code",
   "execution_count": 49,
   "id": "fb672591",
   "metadata": {},
   "outputs": [
    {
     "data": {
      "text/plain": [
       "array([[<AxesSubplot:title={'center':'ID'}>,\n",
       "        <AxesSubplot:title={'center':'Age'}>,\n",
       "        <AxesSubplot:title={'center':'Height_cm'}>],\n",
       "       [<AxesSubplot:title={'center':'Weight_kg'}>,\n",
       "        <AxesSubplot:title={'center':'Systolic_BP_mmHg'}>,\n",
       "        <AxesSubplot:title={'center':'Diastolic_BP_mmHg'}>],\n",
       "       [<AxesSubplot:title={'center':'Calorie_intake'}>,\n",
       "        <AxesSubplot:title={'center':'Protein_intake'}>,\n",
       "        <AxesSubplot:title={'center':'Carb_intake'}>],\n",
       "       [<AxesSubplot:title={'center':'Fat_intake'}>,\n",
       "        <AxesSubplot:title={'center':'Alcohol_Intake_g/day'}>,\n",
       "        <AxesSubplot:title={'center':'Physical_Activity_hours/week'}>]],\n",
       "      dtype=object)"
      ]
     },
     "execution_count": 49,
     "metadata": {},
     "output_type": "execute_result"
    },
    {
     "data": {
      "image/png": "[encoded data removed]",
      "text/plain": [
       "<Figure size 720x720 with 12 Axes>"
      ]
     },
     "metadata": {
      "needs_background": "light"
     },
     "output_type": "display_data"
    }
   ],
   "source": [
    "# Check the distribution of each column in the asian_black_df dataframe\n",
    "asian_df.hist(figsize=(10,10))"
   ]
  },
  {
   "cell_type": "code",
   "execution_count": 51,
   "id": "368f86ca",
   "metadata": {},
   "outputs": [
    {
     "data": {
      "text/plain": [
       "ID                              0\n",
       "Age                             0\n",
       "Sex                             0\n",
       "Height_cm                       0\n",
       "Weight_kg                       0\n",
       "Ethnicity                       0\n",
       "Systolic_BP_mmHg                0\n",
       "Diastolic_BP_mmHg               0\n",
       "Calorie_intake                  0\n",
       "Protein_intake                  0\n",
       "Carb_intake                     0\n",
       "Fat_intake                      0\n",
       "Smoking_Status                  0\n",
       "Alcohol_Intake_g/day            0\n",
       "Physical_Activity_hours/week    0\n",
       "Diabetes_Status                 0\n",
       "Cancer_Status                   0\n",
       "dtype: int64"
      ]
     },
     "execution_count": 51,
     "metadata": {},
     "output_type": "execute_result"
    }
   ],
   "source": [
    "# Check for missing values in the asian_black_df dataframe\n",
    "asian_df.isnull().sum()"
   ]
  },
  {
   "cell_type": "code",
   "execution_count": 61,
   "id": "4479cdbf",
   "metadata": {},
   "outputs": [
    {
     "name": "stdout",
     "output_type": "stream",
     "text": [
      "Age                             56\n",
      "Alcohol_Intake_g/day            57\n",
      "Calorie_intake                  51\n",
      "Cancer_Status                    0\n",
      "Carb_intake                     45\n",
      "Diabetes_Status                  0\n",
      "Diastolic_BP_mmHg               57\n",
      "Ethnicity                        0\n",
      "Fat_intake                      47\n",
      "Height_cm                       57\n",
      "ID                               0\n",
      "Physical_Activity_hours/week    47\n",
      "Protein_intake                  45\n",
      "Sex                              0\n",
      "Smoking_Status                   0\n",
      "Systolic_BP_mmHg                60\n",
      "Weight_kg                       47\n",
      "dtype: int64\n"
     ]
    },
    {
     "name": "stderr",
     "output_type": "stream",
     "text": [
      "C:\\Users\\Senthil\\AppData\\Local\\Temp/ipykernel_13032/682632525.py:5: FutureWarning: Automatic reindexing on DataFrame vs Series comparisons is deprecated and will raise ValueError in a future version.  Do `left, right = left.align(right, axis=1, copy=False)` before e.g. `left == right`\n",
      "  outliers = ((asian_df < (Q1 - 1.5 * IQR)) | (asian_df > (Q3 + 1.5 * IQR))).sum()\n"
     ]
    }
   ],
   "source": [
    "# Check for outliers using the interquartile range (IQR) method\n",
    "Q1 = asian_df.quantile(0.25)\n",
    "Q3 = asian_df.quantile(0.75)\n",
    "IQR = Q3 - Q1\n",
    "outliers = ((asian_df < (Q1 - 1.5 * IQR)) | (asian_df > (Q3 + 1.5 * IQR))).sum()\n",
    "print(outliers)"
   ]
  },
  {
   "cell_type": "code",
   "execution_count": 62,
   "id": "7eece1f7",
   "metadata": {},
   "outputs": [
    {
     "name": "stdout",
     "output_type": "stream",
     "text": [
      "          ID  Age Sex  Height_cm  Weight_kg    Ethnicity  Systolic_BP_mmHg  \\\n",
      "3          4   61   F      169.5       70.7    Pakistani               103   \n",
      "5          6   52   M      192.1       69.7        Asian               118   \n",
      "7          8   51   M      164.2       82.0  Bangladeshi               116   \n",
      "9         10   56   M      178.4       67.8    Pakistani                93   \n",
      "12        13   60   M      172.1       63.6  Bangladeshi               127   \n",
      "...      ...  ...  ..        ...        ...          ...               ...   \n",
      "10793  10794   43   M      158.1       63.0  Bangladeshi               120   \n",
      "10794  10795   66   F      170.3       69.3  Bangladeshi               138   \n",
      "10796  10797   64   M      176.9       74.6  Bangladeshi               124   \n",
      "10798  10799   58   M      169.7       90.4        Asian               124   \n",
      "10799  10800   58   F      181.2       82.4  Bangladeshi               115   \n",
      "\n",
      "       Diastolic_BP_mmHg  Calorie_intake  Protein_intake  Carb_intake  \\\n",
      "3                     80            1944              47          217   \n",
      "5                     83             470              23          119   \n",
      "7                     66            1381              78          242   \n",
      "9                    103            1089              57          239   \n",
      "12                    62             823              97          185   \n",
      "...                  ...             ...             ...          ...   \n",
      "10793                 77            1030              70          183   \n",
      "10794                109            1229              83          226   \n",
      "10796                 71            1442              51          219   \n",
      "10798                 62             573              77          192   \n",
      "10799                 69              25              27          158   \n",
      "\n",
      "       Fat_intake  Smoking_Status  Alcohol_Intake_g/day  \\\n",
      "3             118   Former Smoker                    -9   \n",
      "5              79  Current Smoker                    38   \n",
      "7              57  Current Smoker                    15   \n",
      "9              69   Former Smoker                    16   \n",
      "12             58  Current Smoker                     2   \n",
      "...           ...             ...                   ...   \n",
      "10793          83   Former Smoker                     2   \n",
      "10794         111      Non-Smoker                    18   \n",
      "10796          63  Current Smoker                    29   \n",
      "10798          38  Current Smoker                    15   \n",
      "10799          70  Current Smoker                    20   \n",
      "\n",
      "       Physical_Activity_hours/week Diabetes_Status Cancer_Status  \n",
      "3                               1.2              No           Yes  \n",
      "5                              -1.9             Yes            No  \n",
      "7                               6.6             Yes           Yes  \n",
      "9                               1.1             Yes           Yes  \n",
      "12                              4.3             Yes           Yes  \n",
      "...                             ...             ...           ...  \n",
      "10793                           3.7              No            No  \n",
      "10794                           3.7             Yes            No  \n",
      "10796                           2.9             Yes            No  \n",
      "10798                           2.9              No           Yes  \n",
      "10799                           3.1              No            No  \n",
      "\n",
      "[6142 rows x 17 columns]\n"
     ]
    }
   ],
   "source": [
    "# Drop the rows that contain outliers\n",
    "outlier_removed_df = asian_df.drop(asian_df.index[outliers])\n",
    "\n",
    "# Print the cleaned dataframe\n",
    "print(outlier_removed_df)"
   ]
  },
  {
   "cell_type": "code",
   "execution_count": 66,
   "id": "008eaebf",
   "metadata": {},
   "outputs": [
    {
     "data": {
      "text/plain": [
       "Bangladeshi    1610\n",
       "Indian         1530\n",
       "Asian          1504\n",
       "Pakistani      1498\n",
       "Name: Ethnicity, dtype: int64"
      ]
     },
     "execution_count": 66,
     "metadata": {},
     "output_type": "execute_result"
    }
   ],
   "source": [
    "outlier_removed_df['Ethnicity'].value_counts()"
   ]
  },
  {
   "cell_type": "markdown",
   "id": "5f496396",
   "metadata": {},
   "source": [
    "# Second method: Using genetic ancestry data"
   ]
  },
  {
   "cell_type": "markdown",
   "id": "4b780d37",
   "metadata": {},
   "source": [
    "1. Identify the variable in the UK Biobank dataset that contains genetic ancestry data. \n",
    "\n",
    "2. This variable may be labeled \"genetic ancestry,\" \"principal component analysis,\" or similar.\n",
    "\n",
    "3.Use a threshold or cutoff to define a South Asian ancestry group based on the genetic data. \n",
    "\n",
    "4. This threshold will depend on the specific dataset and the genetic reference panel used to identify ancestry, but could be based on the first few principal components or on specific genetic markers known to be informative for South Asian ancestry.\n",
    "\n",
    "5. Filter the dataset to only include individuals who meet the cutoff for South Asian ancestry.\n"
   ]
  },
  {
   "cell_type": "code",
   "execution_count": 67,
   "id": "14162c60",
   "metadata": {},
   "outputs": [],
   "source": [
    "#To perform principal component analysis (PCA), import PCA class from the sklearn.decomposition module.\n",
    "from sklearn.decomposition import PCA"
   ]
  },
  {
   "cell_type": "code",
   "execution_count": 69,
   "id": "d484ad51",
   "metadata": {},
   "outputs": [],
   "source": [
    "# Set the number of individuals and number of genetic markers in the dataset\n",
    "num_individuals = 1000\n",
    "num_markers = 100"
   ]
  },
  {
   "cell_type": "code",
   "execution_count": null,
   "id": "0e06adf7",
   "metadata": {},
   "outputs": [],
   "source": [
    "# Generate random genetic data using a normal distribution\n",
    "genetic_data = np.random.normal(loc=0, scale=1, size=(num_individuals, num_markers))"
   ]
  },
  {
   "cell_type": "code",
   "execution_count": 71,
   "id": "89c8e1ce",
   "metadata": {},
   "outputs": [],
   "source": [
    "# Add individual IDs and ethnicities to the genetic data\n",
    "individual_ids = [f'INDV{i}' for i in range(num_individuals)]\n",
    "ethnicities = ['South Asian']*500 +['Black']*500\n",
    "genetic_df = pd.DataFrame(genetic_data, columns=[f'SNP{i}' for i in range(num_markers)])\n",
    "genetic_df.insert(0, 'Individual ID', individual_ids)\n",
    "genetic_df.insert(1, 'Ethnicity', ethnicities)"
   ]
  },
  {
   "cell_type": "code",
   "execution_count": 75,
   "id": "292937cc",
   "metadata": {},
   "outputs": [
    {
     "data": {
      "text/html": [
       "<div>\n",
       "<style scoped>\n",
       "    .dataframe tbody tr th:only-of-type {\n",
       "        vertical-align: middle;\n",
       "    }\n",
       "\n",
       "    .dataframe tbody tr th {\n",
       "        vertical-align: top;\n",
       "    }\n",
       "\n",
       "    .dataframe thead th {\n",
       "        text-align: right;\n",
       "    }\n",
       "</style>\n",
       "<table border=\"1\" class=\"dataframe\">\n",
       "  <thead>\n",
       "    <tr style=\"text-align: right;\">\n",
       "      <th></th>\n",
       "      <th>Individual ID</th>\n",
       "      <th>Ethnicity</th>\n",
       "      <th>SNP0</th>\n",
       "      <th>SNP1</th>\n",
       "      <th>SNP2</th>\n",
       "      <th>SNP3</th>\n",
       "      <th>SNP4</th>\n",
       "      <th>SNP5</th>\n",
       "      <th>SNP6</th>\n",
       "      <th>SNP7</th>\n",
       "      <th>...</th>\n",
       "      <th>SNP90</th>\n",
       "      <th>SNP91</th>\n",
       "      <th>SNP92</th>\n",
       "      <th>SNP93</th>\n",
       "      <th>SNP94</th>\n",
       "      <th>SNP95</th>\n",
       "      <th>SNP96</th>\n",
       "      <th>SNP97</th>\n",
       "      <th>SNP98</th>\n",
       "      <th>SNP99</th>\n",
       "    </tr>\n",
       "  </thead>\n",
       "  <tbody>\n",
       "    <tr>\n",
       "      <th>0</th>\n",
       "      <td>INDV0</td>\n",
       "      <td>South Asian</td>\n",
       "      <td>-0.420986</td>\n",
       "      <td>0.603256</td>\n",
       "      <td>0.011503</td>\n",
       "      <td>0.875060</td>\n",
       "      <td>0.720733</td>\n",
       "      <td>-1.055278</td>\n",
       "      <td>0.881332</td>\n",
       "      <td>0.797337</td>\n",
       "      <td>...</td>\n",
       "      <td>0.609884</td>\n",
       "      <td>0.936943</td>\n",
       "      <td>0.568141</td>\n",
       "      <td>-0.663800</td>\n",
       "      <td>-0.550230</td>\n",
       "      <td>-2.180879</td>\n",
       "      <td>-1.064036</td>\n",
       "      <td>0.692570</td>\n",
       "      <td>-0.262427</td>\n",
       "      <td>1.409297</td>\n",
       "    </tr>\n",
       "    <tr>\n",
       "      <th>1</th>\n",
       "      <td>INDV1</td>\n",
       "      <td>South Asian</td>\n",
       "      <td>0.055794</td>\n",
       "      <td>0.063374</td>\n",
       "      <td>0.902475</td>\n",
       "      <td>0.391904</td>\n",
       "      <td>-0.203238</td>\n",
       "      <td>0.321374</td>\n",
       "      <td>-1.440111</td>\n",
       "      <td>-1.535000</td>\n",
       "      <td>...</td>\n",
       "      <td>1.452654</td>\n",
       "      <td>-0.201791</td>\n",
       "      <td>0.431527</td>\n",
       "      <td>0.343122</td>\n",
       "      <td>-1.323319</td>\n",
       "      <td>-0.324317</td>\n",
       "      <td>-0.647156</td>\n",
       "      <td>1.101581</td>\n",
       "      <td>0.633565</td>\n",
       "      <td>-0.028506</td>\n",
       "    </tr>\n",
       "    <tr>\n",
       "      <th>2</th>\n",
       "      <td>INDV2</td>\n",
       "      <td>South Asian</td>\n",
       "      <td>-1.033110</td>\n",
       "      <td>-0.101980</td>\n",
       "      <td>-0.939287</td>\n",
       "      <td>1.224047</td>\n",
       "      <td>0.405150</td>\n",
       "      <td>-1.091536</td>\n",
       "      <td>-0.009488</td>\n",
       "      <td>-0.225356</td>\n",
       "      <td>...</td>\n",
       "      <td>1.534972</td>\n",
       "      <td>0.947314</td>\n",
       "      <td>-0.137273</td>\n",
       "      <td>-0.066529</td>\n",
       "      <td>-1.193648</td>\n",
       "      <td>-2.198492</td>\n",
       "      <td>0.386646</td>\n",
       "      <td>-0.188271</td>\n",
       "      <td>-0.225852</td>\n",
       "      <td>-0.262148</td>\n",
       "    </tr>\n",
       "    <tr>\n",
       "      <th>3</th>\n",
       "      <td>INDV3</td>\n",
       "      <td>South Asian</td>\n",
       "      <td>0.160735</td>\n",
       "      <td>0.749431</td>\n",
       "      <td>1.031643</td>\n",
       "      <td>-0.742942</td>\n",
       "      <td>1.731911</td>\n",
       "      <td>0.157097</td>\n",
       "      <td>-0.570615</td>\n",
       "      <td>1.322927</td>\n",
       "      <td>...</td>\n",
       "      <td>0.971057</td>\n",
       "      <td>0.358939</td>\n",
       "      <td>0.575040</td>\n",
       "      <td>1.946979</td>\n",
       "      <td>2.034892</td>\n",
       "      <td>-0.224272</td>\n",
       "      <td>0.994981</td>\n",
       "      <td>-0.002077</td>\n",
       "      <td>-1.381373</td>\n",
       "      <td>-1.327766</td>\n",
       "    </tr>\n",
       "    <tr>\n",
       "      <th>4</th>\n",
       "      <td>INDV4</td>\n",
       "      <td>South Asian</td>\n",
       "      <td>-0.144983</td>\n",
       "      <td>0.957854</td>\n",
       "      <td>2.216548</td>\n",
       "      <td>-0.838868</td>\n",
       "      <td>1.593306</td>\n",
       "      <td>0.184908</td>\n",
       "      <td>0.117100</td>\n",
       "      <td>-0.775641</td>\n",
       "      <td>...</td>\n",
       "      <td>-1.707968</td>\n",
       "      <td>-0.632083</td>\n",
       "      <td>-0.348463</td>\n",
       "      <td>-0.580776</td>\n",
       "      <td>1.150985</td>\n",
       "      <td>1.601604</td>\n",
       "      <td>0.409621</td>\n",
       "      <td>0.063527</td>\n",
       "      <td>-1.328034</td>\n",
       "      <td>-0.778432</td>\n",
       "    </tr>\n",
       "  </tbody>\n",
       "</table>\n",
       "<p>5 rows × 102 columns</p>\n",
       "</div>"
      ],
      "text/plain": [
       "  Individual ID    Ethnicity      SNP0      SNP1      SNP2      SNP3  \\\n",
       "0         INDV0  South Asian -0.420986  0.603256  0.011503  0.875060   \n",
       "1         INDV1  South Asian  0.055794  0.063374  0.902475  0.391904   \n",
       "2         INDV2  South Asian -1.033110 -0.101980 -0.939287  1.224047   \n",
       "3         INDV3  South Asian  0.160735  0.749431  1.031643 -0.742942   \n",
       "4         INDV4  South Asian -0.144983  0.957854  2.216548 -0.838868   \n",
       "\n",
       "       SNP4      SNP5      SNP6      SNP7  ...     SNP90     SNP91     SNP92  \\\n",
       "0  0.720733 -1.055278  0.881332  0.797337  ...  0.609884  0.936943  0.568141   \n",
       "1 -0.203238  0.321374 -1.440111 -1.535000  ...  1.452654 -0.201791  0.431527   \n",
       "2  0.405150 -1.091536 -0.009488 -0.225356  ...  1.534972  0.947314 -0.137273   \n",
       "3  1.731911  0.157097 -0.570615  1.322927  ...  0.971057  0.358939  0.575040   \n",
       "4  1.593306  0.184908  0.117100 -0.775641  ... -1.707968 -0.632083 -0.348463   \n",
       "\n",
       "      SNP93     SNP94     SNP95     SNP96     SNP97     SNP98     SNP99  \n",
       "0 -0.663800 -0.550230 -2.180879 -1.064036  0.692570 -0.262427  1.409297  \n",
       "1  0.343122 -1.323319 -0.324317 -0.647156  1.101581  0.633565 -0.028506  \n",
       "2 -0.066529 -1.193648 -2.198492  0.386646 -0.188271 -0.225852 -0.262148  \n",
       "3  1.946979  2.034892 -0.224272  0.994981 -0.002077 -1.381373 -1.327766  \n",
       "4 -0.580776  1.150985  1.601604  0.409621  0.063527 -1.328034 -0.778432  \n",
       "\n",
       "[5 rows x 102 columns]"
      ]
     },
     "execution_count": 75,
     "metadata": {},
     "output_type": "execute_result"
    }
   ],
   "source": [
    "genetic_df.head()"
   ]
  },
  {
   "cell_type": "code",
   "execution_count": 76,
   "id": "e486fedc",
   "metadata": {},
   "outputs": [],
   "source": [
    "# Perform PCA on the genetic data to create ancestry labels\n",
    "pca = PCA(n_components=2)\n",
    "ancestry_labels = pca.fit_transform(genetic_df.iloc[:, 2:])"
   ]
  },
  {
   "cell_type": "code",
   "execution_count": 77,
   "id": "103f62a5",
   "metadata": {},
   "outputs": [],
   "source": [
    "# Add the ancestry labels to the dataframe\n",
    "genetic_df['Ancestry Label 1'] = ancestry_labels[:, 0]\n",
    "genetic_df['Ancestry Label 2'] = ancestry_labels[:, 1]"
   ]
  },
  {
   "cell_type": "code",
   "execution_count": 78,
   "id": "0f15bc0e",
   "metadata": {},
   "outputs": [],
   "source": [
    "# Set a threshold cutoff for South Indian ancestry (cut off can vary based on the research Question)\n",
    "cutoff = -0.2"
   ]
  },
  {
   "cell_type": "code",
   "execution_count": 79,
   "id": "90794093",
   "metadata": {},
   "outputs": [],
   "source": [
    "# Filter out individuals with South Indian ancestry.Individuals with first ancestry label <-0.2 will be filtered out\n",
    "filtered_df = genetic_df[genetic_df['Ancestry Label 1'] < cutoff]"
   ]
  },
  {
   "cell_type": "code",
   "execution_count": 80,
   "id": "b5c84535",
   "metadata": {},
   "outputs": [
    {
     "name": "stdout",
     "output_type": "stream",
     "text": [
      "    Individual ID    Ethnicity      SNP0      SNP1      SNP2      SNP3  \\\n",
      "3           INDV3  South Asian  0.160735  0.749431  1.031643 -0.742942   \n",
      "6           INDV6  South Asian -1.119025  0.886441 -0.122126 -0.527420   \n",
      "7           INDV7  South Asian  0.438389 -0.545830 -0.967937 -0.412054   \n",
      "9           INDV9  South Asian -0.521481  0.594151  2.219753  0.134639   \n",
      "10         INDV10  South Asian -0.331574 -0.251817  0.136619  0.507722   \n",
      "..            ...          ...       ...       ...       ...       ...   \n",
      "985       INDV985        Black  1.758422  0.479449  0.919744 -1.067651   \n",
      "988       INDV988        Black -1.822631  1.975315  0.405341  1.445654   \n",
      "989       INDV989        Black -0.174282  0.293556  1.292405 -0.192378   \n",
      "993       INDV993        Black -0.462286  1.312931 -0.520082 -0.468053   \n",
      "996       INDV996        Black -0.057451 -0.075869 -0.479785 -0.711480   \n",
      "\n",
      "         SNP4      SNP5      SNP6      SNP7  ...     SNP92     SNP93  \\\n",
      "3    1.731911  0.157097 -0.570615  1.322927  ...  0.575040  1.946979   \n",
      "6   -0.494833 -0.058874 -0.032070  0.030196  ... -0.445376  0.045900   \n",
      "7    1.155031  0.026660  0.650977 -0.394787  ... -0.024430 -0.376158   \n",
      "9   -2.058496  0.424402 -0.792013  0.781085  ...  0.656746 -0.922792   \n",
      "10  -0.154628  0.519489  0.700088  0.350529  ...  0.552974  0.204756   \n",
      "..        ...       ...       ...       ...  ...       ...       ...   \n",
      "985 -0.159834  0.073705 -0.001147  0.439953  ... -0.553373  0.782721   \n",
      "988  1.284776  1.784154 -0.447505 -0.662002  ... -0.222522 -1.369448   \n",
      "989 -0.688241  0.663936 -0.530871  1.099557  ... -0.280112  0.943162   \n",
      "993 -1.318766  0.084646 -0.454111 -0.224696  ...  0.072668  0.838867   \n",
      "996  0.610904  0.874170  0.152317 -0.398734  ... -0.896326 -0.325048   \n",
      "\n",
      "        SNP94     SNP95     SNP96     SNP97     SNP98     SNP99  \\\n",
      "3    2.034892 -0.224272  0.994981 -0.002077 -1.381373 -1.327766   \n",
      "6   -2.515908  0.893894 -1.023153 -0.563326 -0.436637 -0.593892   \n",
      "7   -0.712005 -0.912483  1.253637  0.549214  0.262794  0.914750   \n",
      "9   -0.755805 -0.591963 -0.365674 -0.078877 -2.139473  0.969655   \n",
      "10   0.309728  1.201517  0.171844  0.864034  0.035660 -1.295947   \n",
      "..        ...       ...       ...       ...       ...       ...   \n",
      "985 -0.182495  1.267168  0.743269  0.246357  2.522385  0.392328   \n",
      "988  0.652864  0.470587  0.917856 -0.782884  0.084418 -0.861661   \n",
      "989  0.251430  0.070472 -1.523430  0.799658 -1.462087 -1.725385   \n",
      "993  0.981183  0.747105  0.181757  0.998691 -0.864859 -1.341183   \n",
      "996  2.132967  1.535691  0.676075 -0.392748  1.400107 -1.662234   \n",
      "\n",
      "     Ancestry Label 1  Ancestry Label 2  \n",
      "3           -1.524034          0.587203  \n",
      "6           -0.827260          2.023453  \n",
      "7           -0.646397          1.601783  \n",
      "9           -1.453151         -1.062615  \n",
      "10          -1.338140          2.114264  \n",
      "..                ...               ...  \n",
      "985         -1.194581         -0.475389  \n",
      "988         -1.258760         -0.458116  \n",
      "989         -2.193040          1.750489  \n",
      "993         -2.571995          1.539303  \n",
      "996         -0.564714          1.794449  \n",
      "\n",
      "[428 rows x 104 columns]\n"
     ]
    }
   ],
   "source": [
    "# Print the filtered dataframe\n",
    "print(filtered_df)"
   ]
  },
  {
   "cell_type": "code",
   "execution_count": null,
   "id": "7c808662",
   "metadata": {},
   "outputs": [],
   "source": []
  }
 ],
 "metadata": {
  "kernelspec": {
   "display_name": "Python 3 (ipykernel)",
   "language": "python",
   "name": "python3"
  },
  "language_info": {
   "codemirror_mode": {
    "name": "ipython",
    "version": 3
   },
   "file_extension": ".py",
   "mimetype": "text/x-python",
   "name": "python",
   "nbconvert_exporter": "python",
   "pygments_lexer": "ipython3",
   "version": "3.9.7"
  }
 },
 "nbformat": 4,
 "nbformat_minor": 5
}
