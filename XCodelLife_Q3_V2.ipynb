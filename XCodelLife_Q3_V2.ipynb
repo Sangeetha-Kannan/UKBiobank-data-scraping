{
 "cells": [
  {
   "cell_type": "code",
   "execution_count": null,
   "id": "9c534cb4",
   "metadata": {},
   "outputs": [],
   "source": [
    "#Question: If you have data from the UK biobank of 10,000 South Asian individuals, \n",
    "# how will you go about isolating nutritional phenotype information and performing further analysis?"
   ]
  },
  {
   "cell_type": "markdown",
   "id": "2adb7492",
   "metadata": {},
   "source": [
    "#Answer:\n",
    "#The broad steps to isolate nutritional phenotype data from UK biobank are as follows:\n",
    "\n",
    "1.Identify the variables in the UK Biobank dataset that relate to nutrition, such as dietary intake, nutrient levels, or anthropometric measures related to nutrition\n",
    "\n",
    "2. Filter the dataset to only include data for South Asian individuals\n",
    "\n",
    "3. Explore the dataset to understand the distribution of variables and check for missing values\n",
    "\n",
    "4.  Perform statistical analyses to investigate relationships between the nutritional variables and other variables of interest, such as demographic information, health outcomes, or genetic variants\n",
    "\n",
    "5. Use data visualization tools to communicate findings and insights from the analysis"
   ]
  },
  {
   "cell_type": "code",
   "execution_count": null,
   "id": "fb375a6a",
   "metadata": {},
   "outputs": [],
   "source": [
    "#To filter the dataset in the UK Biobank to only include data for South Asian individuals, \n",
    "#you can use either self-reported ethnicity or genetic ancestry data. "
   ]
  },
  {
   "cell_type": "code",
   "execution_count": null,
   "id": "8c585ef6",
   "metadata": {},
   "outputs": [],
   "source": [
    "#Here are the steps for each self-reported ethnicity\n",
    "#Firstly we create a simulated dataset "
   ]
  },
  {
   "cell_type": "code",
   "execution_count": 1,
   "id": "c1a1f1d9",
   "metadata": {},
   "outputs": [],
   "source": [
    "#import libraries\n",
    "import numpy as np\n",
    "import pandas as pd"
   ]
  },
  {
   "cell_type": "code",
   "execution_count": 2,
   "id": "71d5f283",
   "metadata": {},
   "outputs": [],
   "source": [
    "# Set the number of individuals in the dataset\n",
    "num_individuals = 10800"
   ]
  },
  {
   "cell_type": "code",
   "execution_count": 29,
   "id": "3748e397",
   "metadata": {},
   "outputs": [],
   "source": [
    "# Generate the ID variable\n",
    "ids = np.arange(1, num_individuals+1)\n",
    "\n",
    "# Generate the Age variable (mean=50, std=10)\n",
    "ages = np.random.normal(loc=50, scale=10, size=num_individuals).astype(int)\n",
    "\n",
    "# Generate the Sex variable (M or F)\n",
    "sexes = np.random.choice(['M', 'F'], size=num_individuals)\n",
    "\n",
    "# Generate the Height variable (mean=170, std=10)\n",
    "heights = np.random.normal(loc=170, scale=10, size=num_individuals).round(1)\n",
    "\n",
    "# Generate the Weight variable (mean=70, std=10)\n",
    "weights = np.random.normal(loc=70, scale=10, size=num_individuals).round(1)\n",
    "\n",
    "#Generate the ethnicity variable\n",
    "ethnicity = np.random.choice([\"Indian\", \"Pakistani\", \"Bangladeshi\", \"Asian\", \"Chinese\", \"white_british\", \"white_irish\"], size=num_individuals)\n",
    "\n",
    "# Generate the Systolic Blood Pressure variable (mean=120, std=10)\n",
    "sbp = np.random.normal(loc=120, scale=10, size=num_individuals).astype(int)\n",
    "\n",
    "# Generate the Diastolic Blood Pressure variable (mean=80, std=10)\n",
    "dbp = np.random.normal(loc=80, scale=10, size=num_individuals).astype(int)\n",
    "\n",
    "#Generate calorie_intake variable (mean =1000, std = 500)\n",
    "calorie = np.random.normal(loc=1000, scale=500,size=num_individuals).astype(int)\n",
    "\n",
    "#Generate protein_intake variable (mean =60, std = 20)\n",
    "protein = np.random.normal(loc=60, scale=20,size=num_individuals).astype(int)\n",
    "\n",
    "#Generate carb_intake variable (mean =200, std = 70)\n",
    "carb = np.random.normal(loc=200, scale=70,size=num_individuals).astype(int)\n",
    "\n",
    "#Generate fat_intake variable (mean =80, std = 25)\n",
    "fat = np.random.normal(loc=80, scale=25,size=num_individuals).astype(int)\n",
    "\n",
    "# Generate the Smoking Status variable (Current Smoker, Former Smoker, or Non-Smoker)\n",
    "smoking_status = np.random.choice(['Current Smoker', 'Former Smoker', 'Non-Smoker'], size=num_individuals)\n",
    "\n",
    "# Generate the Alcohol Intake variable (mean=20, std=10)\n",
    "alcohol_intake = np.random.normal(loc=20, scale=10, size=num_individuals).astype(int)\n",
    "\n",
    "# Generate the Physical Activity variable (mean=3, std=2)\n",
    "physical_activity = np.random.normal(loc=3, scale=2, size=num_individuals).round(1)\n",
    "\n",
    "# Generate the Diabetes Status variable (Yes or No)\n",
    "diabetes_status = np.random.choice(['Yes', 'No'], size=num_individuals)\n",
    "\n",
    "# Generate the Cancer Status variable (Yes or No)\n",
    "cancer_status = np.random.choice(['Yes', 'No'], size=num_individuals)\n"
   ]
  },
  {
   "cell_type": "code",
   "execution_count": 30,
   "id": "f23ac999",
   "metadata": {},
   "outputs": [],
   "source": [
    "# Create a dictionary with the variables\n",
    "data_dict = {'ID': ids,\n",
    "             'Age': ages,\n",
    "             'Sex': sexes,\n",
    "             'Height_cm': heights,\n",
    "             'Weight_kg': weights,\n",
    "             'Ethnicity': ethnicity,\n",
    "             'Systolic_BP_mmHg': sbp,\n",
    "             'Diastolic_BP_mmHg': dbp,\n",
    "             'Calorie_intake': calorie,\n",
    "             'Protein_intake': protein,\n",
    "             'Carb_intake': carb,\n",
    "             'Fat_intake': fat,\n",
    "             'Smoking_Status': smoking_status,\n",
    "             'Alcohol_Intake_g/day': alcohol_intake,\n",
    "             'Physical_Activity_hours/week': physical_activity,\n",
    "             'Diabetes_Status': diabetes_status,\n",
    "             'Cancer_Status': cancer_status}"
   ]
  },
  {
   "cell_type": "code",
   "execution_count": 31,
   "id": "12258ce2",
   "metadata": {},
   "outputs": [],
   "source": [
    "# Convert the dictionary to a Pandas DataFrame\n",
    "df = pd.DataFrame(data_dict)"
   ]
  },
  {
   "cell_type": "code",
   "execution_count": 32,
   "id": "ea4f2170",
   "metadata": {},
   "outputs": [],
   "source": [
    "# Save the DataFrame to a tab-delimited text file\n",
    "df.to_csv('simulated_uk_biobank_dataset.txt', sep='\\t', index=False)"
   ]
  },
  {
   "cell_type": "code",
   "execution_count": 33,
   "id": "982411f8",
   "metadata": {},
   "outputs": [
    {
     "name": "stdout",
     "output_type": "stream",
     "text": [
      "<class 'pandas.core.frame.DataFrame'>\n",
      "RangeIndex: 10800 entries, 0 to 10799\n",
      "Data columns (total 17 columns):\n",
      " #   Column                        Non-Null Count  Dtype  \n",
      "---  ------                        --------------  -----  \n",
      " 0   ID                            10800 non-null  int32  \n",
      " 1   Age                           10800 non-null  int32  \n",
      " 2   Sex                           10800 non-null  object \n",
      " 3   Height_cm                     10800 non-null  float64\n",
      " 4   Weight_kg                     10800 non-null  float64\n",
      " 5   Ethnicity                     10800 non-null  object \n",
      " 6   Systolic_BP_mmHg              10800 non-null  int32  \n",
      " 7   Diastolic_BP_mmHg             10800 non-null  int32  \n",
      " 8   Calorie_intake                10800 non-null  int32  \n",
      " 9   Protein_intake                10800 non-null  int32  \n",
      " 10  Carb_intake                   10800 non-null  int32  \n",
      " 11  Fat_intake                    10800 non-null  int32  \n",
      " 12  Smoking_Status                10800 non-null  object \n",
      " 13  Alcohol_Intake_g/day          10800 non-null  int32  \n",
      " 14  Physical_Activity_hours/week  10800 non-null  float64\n",
      " 15  Diabetes_Status               10800 non-null  object \n",
      " 16  Cancer_Status                 10800 non-null  object \n",
      "dtypes: float64(3), int32(9), object(5)\n",
      "memory usage: 1.0+ MB\n"
     ]
    }
   ],
   "source": [
    "df.info()"
   ]
  },
  {
   "cell_type": "code",
   "execution_count": 34,
   "id": "24fcfd11",
   "metadata": {},
   "outputs": [],
   "source": [
    "# Second, filter the dataset to only include individuals who self-reported as \"Asian\" in the \"ethnicity\" column\n",
    "asian_df = df.loc[(df[\"Ethnicity\"] == \"Indian\")|(df[\"Ethnicity\"]==\"Pakistani\")|(df[\"Ethnicity\"]==\"Bangladeshi\")| (df[\"Ethnicity\"]==\"Asian\")]"
   ]
  },
  {
   "cell_type": "code",
   "execution_count": 35,
   "id": "66dc8ee4",
   "metadata": {},
   "outputs": [
    {
     "data": {
      "text/plain": [
       "Bangladeshi    1608\n",
       "Asian          1573\n",
       "Indian         1569\n",
       "Pakistani      1523\n",
       "Name: Ethnicity, dtype: int64"
      ]
     },
     "execution_count": 35,
     "metadata": {},
     "output_type": "execute_result"
    }
   ],
   "source": [
    "asian_df['Ethnicity'].value_counts()"
   ]
  },
  {
   "cell_type": "code",
   "execution_count": null,
   "id": "45e83918",
   "metadata": {},
   "outputs": [],
   "source": []
  }
 ],
 "metadata": {
  "kernelspec": {
   "display_name": "Python 3 (ipykernel)",
   "language": "python",
   "name": "python3"
  },
  "language_info": {
   "codemirror_mode": {
    "name": "ipython",
    "version": 3
   },
   "file_extension": ".py",
   "mimetype": "text/x-python",
   "name": "python",
   "nbconvert_exporter": "python",
   "pygments_lexer": "ipython3",
   "version": "3.9.7"
  }
 },
 "nbformat": 4,
 "nbformat_minor": 5
}
